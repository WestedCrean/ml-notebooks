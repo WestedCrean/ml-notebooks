{
 "cells": [
  {
   "cell_type": "code",
   "execution_count": 1,
   "id": "6efbf9c9",
   "metadata": {},
   "outputs": [
    {
     "name": "stdout",
     "output_type": "stream",
     "text": [
      "[0.0,0.0]\n"
     ]
    }
   ],
   "source": [
    "from pyspark.ml.linalg import DenseVector\n",
    "from pyspark.ml.feature import IDF, IDFModel\n",
    "from pyspark.sql import SparkSession\n",
    "\n",
    "spark = SparkSession \\\n",
    "    .builder \\\n",
    "    .appName(\"Python Spark SQL\") \\\n",
    "    .getOrCreate()\n",
    "\n",
    "\n",
    "df = spark.createDataFrame([(DenseVector([1.0, 2.0]),), (DenseVector([0.0, 1.0]),), (DenseVector([3.0, 0.2]),)], [\"tf\"])\n",
    "idf = IDF(minDocFreq=3)\n",
    "idf.setInputCol(\"tf\")\n",
    "idf.setOutputCol(\"idf\")\n",
    "\n",
    "model = idf.fit(df)\n",
    "model.setOutputCol(\"idf\")\n",
    "model.getMinDocFreq()\n",
    "\n",
    "print(model.idf)"
   ]
  },
  {
   "cell_type": "code",
   "execution_count": 2,
   "id": "3845031f",
   "metadata": {},
   "outputs": [
    {
     "data": {
      "text/plain": [
       "True"
      ]
     },
     "execution_count": 2,
     "metadata": {},
     "output_type": "execute_result"
    }
   ],
   "source": [
    "model.numDocs == df.count()"
   ]
  },
  {
   "cell_type": "code",
   "execution_count": 3,
   "id": "a31f91d3",
   "metadata": {},
   "outputs": [
    {
     "data": {
      "text/plain": [
       "True"
      ]
     },
     "execution_count": 3,
     "metadata": {},
     "output_type": "execute_result"
    }
   ],
   "source": [
    "model.transform(df).head().idf\n",
    "\n",
    "idf.setParams(outputCol=\"freqs\").fit(df).transform(df).collect()[1].freqs\n",
    "params = {idf.minDocFreq: 1, idf.outputCol: \"vector\"}\n",
    "idf.fit(df, params).transform(df).head().vector\n",
    "\n",
    "temp_path = \"./temp\"\n",
    "idfPath = temp_path + \"/idf\"\n",
    "\n",
    "idf.save(idfPath)\n",
    "\n",
    "loadedIdf = IDF.load(idfPath)\n",
    "\n",
    "loadedIdf.getMinDocFreq() == idf.getMinDocFreq()\n",
    "\n",
    "modelPath = temp_path + \"/idf-model\"\n",
    "model.save(modelPath)\n",
    "\n",
    "loadedModel = IDFModel.load(modelPath)\n",
    "\n",
    "loadedModel.transform(df).head().idf == model.transform(df).head().idf"
   ]
  }
 ],
 "metadata": {
  "kernelspec": {
   "display_name": "Python 3",
   "language": "python",
   "name": "python3"
  },
  "language_info": {
   "codemirror_mode": {
    "name": "ipython",
    "version": 3
   },
   "file_extension": ".py",
   "mimetype": "text/x-python",
   "name": "python",
   "nbconvert_exporter": "python",
   "pygments_lexer": "ipython3",
   "version": "3.9.1"
  }
 },
 "nbformat": 4,
 "nbformat_minor": 5
}
